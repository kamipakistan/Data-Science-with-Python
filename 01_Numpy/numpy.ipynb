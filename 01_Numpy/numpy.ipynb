{
  "nbformat": 4,
  "nbformat_minor": 0,
  "metadata": {
    "colab": {
      "provenance": []
    },
    "kernelspec": {
      "name": "python3",
      "display_name": "Python 3"
    },
    "language_info": {
      "name": "python"
    }
  },
  "cells": [
    {
      "cell_type": "markdown",
      "source": [
        "# **NUMPY**"
      ],
      "metadata": {
        "id": "Docm9kAeTl8F"
      }
    },
    {
      "cell_type": "code",
      "source": [
        "# import numpy Library\n",
        "import numpy as np"
      ],
      "metadata": {
        "id": "eBrbK1yCXyd8"
      },
      "execution_count": 1,
      "outputs": []
    },
    {
      "cell_type": "code",
      "source": [
        "# first numpy array\n",
        "firstDArray = np.array([1, 2, 3, 4, 5, 6])"
      ],
      "metadata": {
        "id": "mFpyUXlxX8Fb"
      },
      "execution_count": 2,
      "outputs": []
    },
    {
      "cell_type": "code",
      "source": [
        "# print first array\n",
        "firstDArray"
      ],
      "metadata": {
        "colab": {
          "base_uri": "https://localhost:8080/"
        },
        "id": "9sbuvxL9X_-o",
        "outputId": "c729d762-9bbd-483a-de7b-8dadcc08c71d"
      },
      "execution_count": 3,
      "outputs": [
        {
          "output_type": "execute_result",
          "data": {
            "text/plain": [
              "array([1, 2, 3, 4, 5, 6])"
            ]
          },
          "metadata": {},
          "execution_count": 3
        }
      ]
    },
    {
      "cell_type": "code",
      "source": [],
      "metadata": {
        "id": "oQ_v3_3NfVpb"
      },
      "execution_count": 3,
      "outputs": []
    },
    {
      "cell_type": "code",
      "source": [
        "# array with zeros\n",
        "np.zeros((2, 3), dtype = \"int64\")"
      ],
      "metadata": {
        "colab": {
          "base_uri": "https://localhost:8080/"
        },
        "id": "Ya4FCqUDYCmo",
        "outputId": "c28a5b53-e3be-44af-86d8-28094d909690"
      },
      "execution_count": 4,
      "outputs": [
        {
          "output_type": "execute_result",
          "data": {
            "text/plain": [
              "array([[0, 0, 0],\n",
              "       [0, 0, 0]])"
            ]
          },
          "metadata": {},
          "execution_count": 4
        }
      ]
    },
    {
      "cell_type": "code",
      "source": [
        "# array with ones\n",
        "np.ones((3, 4), dtype = \"float32\")"
      ],
      "metadata": {
        "colab": {
          "base_uri": "https://localhost:8080/"
        },
        "id": "eojt9ohgYFsa",
        "outputId": "2b753e11-299c-41c1-d165-421ea06f7dcd"
      },
      "execution_count": 5,
      "outputs": [
        {
          "output_type": "execute_result",
          "data": {
            "text/plain": [
              "array([[1., 1., 1., 1.],\n",
              "       [1., 1., 1., 1.],\n",
              "       [1., 1., 1., 1.]], dtype=float32)"
            ]
          },
          "metadata": {},
          "execution_count": 5
        }
      ]
    },
    {
      "cell_type": "code",
      "source": [
        "# array with empty\n",
        "np.empty((2, 4))"
      ],
      "metadata": {
        "colab": {
          "base_uri": "https://localhost:8080/"
        },
        "id": "GVcmy1QsYHo6",
        "outputId": "437b6a95-7b35-4921-a65c-ad8fbdc5c531"
      },
      "execution_count": 6,
      "outputs": [
        {
          "output_type": "execute_result",
          "data": {
            "text/plain": [
              "array([[2.30804071e-316, 3.60739284e-313, 7.90505033e-323,\n",
              "        2.30803992e-316],\n",
              "       [0.00000000e+000, 0.00000000e+000, 9.88131292e-324,\n",
              "        0.00000000e+000]])"
            ]
          },
          "metadata": {},
          "execution_count": 6
        }
      ]
    },
    {
      "cell_type": "code",
      "source": [
        "# array with arange method\n",
        "npArange = np.arange(10, 110, 10)\n",
        "npArange"
      ],
      "metadata": {
        "colab": {
          "base_uri": "https://localhost:8080/"
        },
        "id": "vcWLbHOpYLLz",
        "outputId": "c846692a-7646-4049-8247-1451e29a88db"
      },
      "execution_count": 7,
      "outputs": [
        {
          "output_type": "execute_result",
          "data": {
            "text/plain": [
              "array([ 10,  20,  30,  40,  50,  60,  70,  80,  90, 100])"
            ]
          },
          "metadata": {},
          "execution_count": 7
        }
      ]
    },
    {
      "cell_type": "code",
      "source": [
        "# reshape method to change/create array\n",
        "np.reshape(npArange, (2, 5))"
      ],
      "metadata": {
        "colab": {
          "base_uri": "https://localhost:8080/"
        },
        "id": "_bQ0z05BYPOJ",
        "outputId": "a466cf29-a79e-4097-e680-cd51b84e26fb"
      },
      "execution_count": 8,
      "outputs": [
        {
          "output_type": "execute_result",
          "data": {
            "text/plain": [
              "array([[ 10,  20,  30,  40,  50],\n",
              "       [ 60,  70,  80,  90, 100]])"
            ]
          },
          "metadata": {},
          "execution_count": 8
        }
      ]
    },
    {
      "cell_type": "code",
      "source": [
        "# linspace for linearly (equal) spaced data elements\n",
        "linspaceArray = np.linspace(1, 50, num = 100, dtype=\"float32\")"
      ],
      "metadata": {
        "id": "9biD30O_Z_TP"
      },
      "execution_count": 9,
      "outputs": []
    },
    {
      "cell_type": "code",
      "source": [
        "# print linspace array\n",
        "linspaceArray"
      ],
      "metadata": {
        "colab": {
          "base_uri": "https://localhost:8080/"
        },
        "id": "eRoYS1K4aGz-",
        "outputId": "0acf75ea-6737-45b7-94df-4557580abb55"
      },
      "execution_count": 10,
      "outputs": [
        {
          "output_type": "execute_result",
          "data": {
            "text/plain": [
              "array([ 1.       ,  1.4949495,  1.989899 ,  2.4848485,  2.979798 ,\n",
              "        3.4747474,  3.969697 ,  4.4646463,  4.959596 ,  5.4545455,\n",
              "        5.949495 ,  6.4444447,  6.939394 ,  7.4343433,  7.929293 ,\n",
              "        8.424242 ,  8.919192 ,  9.414142 ,  9.909091 , 10.40404  ,\n",
              "       10.89899  , 11.393939 , 11.888889 , 12.383839 , 12.878788 ,\n",
              "       13.373737 , 13.868687 , 14.363636 , 14.858586 , 15.353536 ,\n",
              "       15.848485 , 16.343435 , 16.838385 , 17.333334 , 17.828283 ,\n",
              "       18.323233 , 18.818182 , 19.313131 , 19.80808  , 20.30303  ,\n",
              "       20.79798  , 21.292929 , 21.787878 , 22.282827 , 22.777779 ,\n",
              "       23.272728 , 23.767677 , 24.262627 , 24.757576 , 25.252525 ,\n",
              "       25.747475 , 26.242424 , 26.737373 , 27.232323 , 27.727272 ,\n",
              "       28.222221 , 28.717173 , 29.212122 , 29.707071 , 30.20202  ,\n",
              "       30.69697  , 31.19192  , 31.686869 , 32.18182  , 32.67677  ,\n",
              "       33.17172  , 33.666668 , 34.161617 , 34.656567 , 35.151516 ,\n",
              "       35.646465 , 36.141415 , 36.636364 , 37.131313 , 37.626263 ,\n",
              "       38.121212 , 38.61616  , 39.11111  , 39.60606  , 40.10101  ,\n",
              "       40.59596  , 41.090908 , 41.585857 , 42.080807 , 42.575756 ,\n",
              "       43.070705 , 43.565655 , 44.060608 , 44.555557 , 45.050507 ,\n",
              "       45.545456 , 46.040405 , 46.535355 , 47.030304 , 47.525253 ,\n",
              "       48.020203 , 48.515152 , 49.0101   , 49.50505  , 50.       ],\n",
              "      dtype=float32)"
            ]
          },
          "metadata": {},
          "execution_count": 10
        }
      ]
    },
    {
      "cell_type": "code",
      "source": [
        "# one dimentional array\n",
        "oneDArray = np.array([3, 4, 5, 6, 7])\n",
        "print(oneDArray)\n",
        "\n",
        "# no of dimentions\n",
        "oneDArray.ndim"
      ],
      "metadata": {
        "colab": {
          "base_uri": "https://localhost:8080/"
        },
        "id": "3APhn4_4aJaG",
        "outputId": "e1096d9f-3c60-4b3f-c614-868cdf60aa63"
      },
      "execution_count": 11,
      "outputs": [
        {
          "output_type": "stream",
          "name": "stdout",
          "text": [
            "[3 4 5 6 7]\n"
          ]
        },
        {
          "output_type": "execute_result",
          "data": {
            "text/plain": [
              "1"
            ]
          },
          "metadata": {},
          "execution_count": 11
        }
      ]
    },
    {
      "cell_type": "code",
      "source": [
        "# two dimentional array\n",
        "twoDArray = np.array([[3, 4, 5, 6], [6, 7, 8, 7], [6, 3, 2, 5]])\n",
        "print(twoDArray)\n",
        "\n",
        "# no of dimentions\n",
        "twoDArray.ndim"
      ],
      "metadata": {
        "colab": {
          "base_uri": "https://localhost:8080/"
        },
        "id": "P_ZApIaAaN4a",
        "outputId": "ccee86b0-eab8-4b93-c04f-7d1b6df9df2c"
      },
      "execution_count": 12,
      "outputs": [
        {
          "output_type": "stream",
          "name": "stdout",
          "text": [
            "[[3 4 5 6]\n",
            " [6 7 8 7]\n",
            " [6 3 2 5]]\n"
          ]
        },
        {
          "output_type": "execute_result",
          "data": {
            "text/plain": [
              "2"
            ]
          },
          "metadata": {},
          "execution_count": 12
        }
      ]
    },
    {
      "cell_type": "code",
      "source": [
        "# three dimentional array\n",
        "threeDArray = np.array([[[3, 4, 5], [5, 6, 4]],\n",
        "                        [[3, 4, 5], [5, 6, 4]], \n",
        "                        [[3, 4, 5], [5, 6, 4]],\n",
        "                        [[3, 4, 5], [5, 6, 4]]])\n",
        "print(threeDArray)\n",
        "\n",
        "\n",
        "# no of dimentions\n",
        "threeDArray.ndim"
      ],
      "metadata": {
        "colab": {
          "base_uri": "https://localhost:8080/"
        },
        "id": "JIZLJZOKaQvq",
        "outputId": "d7ba7a4c-775e-407f-f462-86ce65f00760"
      },
      "execution_count": 13,
      "outputs": [
        {
          "output_type": "stream",
          "name": "stdout",
          "text": [
            "[[[3 4 5]\n",
            "  [5 6 4]]\n",
            "\n",
            " [[3 4 5]\n",
            "  [5 6 4]]\n",
            "\n",
            " [[3 4 5]\n",
            "  [5 6 4]]\n",
            "\n",
            " [[3 4 5]\n",
            "  [5 6 4]]]\n"
          ]
        },
        {
          "output_type": "execute_result",
          "data": {
            "text/plain": [
              "3"
            ]
          },
          "metadata": {},
          "execution_count": 13
        }
      ]
    },
    {
      "cell_type": "code",
      "source": [
        "# four dimentional array\n",
        "fourDarray = np.array([[[[1, 1, 1],\n",
        "                         [1, 1, 1]], \n",
        "                        [[2, 2, 2],\n",
        "                         [2, 2, 2]], \n",
        "                        [[2, 2, 2],\n",
        "                         [2, 2, 2]]],\n",
        "                        \n",
        "                       [[[1, 1, 1],\n",
        "                         [1, 1, 1]], \n",
        "                        [[2, 2, 2],\n",
        "                         [2, 2, 2]], \n",
        "                        [[2, 2, 2],\n",
        "                         [2, 2, 2]]],\n",
        "                        \n",
        "                       [[[1, 1, 1],\n",
        "                         [1, 1, 1]], \n",
        "                        [[2, 2, 2],\n",
        "                         [2, 2, 2]], \n",
        "                        [[2, 2, 2],\n",
        "                         [2, 2, 2]]],\n",
        "                        \n",
        "                       [[[1, 1, 1],\n",
        "                         [1, 1, 1]], \n",
        "                        [[2, 2, 2],\n",
        "                         [2, 2, 2]], \n",
        "                        [[2, 2, 2],\n",
        "                         [2, 2, 2]]]])\n",
        "print(fourDarray)\n",
        "\n",
        "# no of dimentions\n",
        "fourDarray.ndim"
      ],
      "metadata": {
        "colab": {
          "base_uri": "https://localhost:8080/"
        },
        "id": "utscAAxlaXle",
        "outputId": "2f68d1f8-38eb-454a-e7d0-24a1d473b4c7"
      },
      "execution_count": 14,
      "outputs": [
        {
          "output_type": "stream",
          "name": "stdout",
          "text": [
            "[[[[1 1 1]\n",
            "   [1 1 1]]\n",
            "\n",
            "  [[2 2 2]\n",
            "   [2 2 2]]\n",
            "\n",
            "  [[2 2 2]\n",
            "   [2 2 2]]]\n",
            "\n",
            "\n",
            " [[[1 1 1]\n",
            "   [1 1 1]]\n",
            "\n",
            "  [[2 2 2]\n",
            "   [2 2 2]]\n",
            "\n",
            "  [[2 2 2]\n",
            "   [2 2 2]]]\n",
            "\n",
            "\n",
            " [[[1 1 1]\n",
            "   [1 1 1]]\n",
            "\n",
            "  [[2 2 2]\n",
            "   [2 2 2]]\n",
            "\n",
            "  [[2 2 2]\n",
            "   [2 2 2]]]\n",
            "\n",
            "\n",
            " [[[1 1 1]\n",
            "   [1 1 1]]\n",
            "\n",
            "  [[2 2 2]\n",
            "   [2 2 2]]\n",
            "\n",
            "  [[2 2 2]\n",
            "   [2 2 2]]]]\n"
          ]
        },
        {
          "output_type": "execute_result",
          "data": {
            "text/plain": [
              "4"
            ]
          },
          "metadata": {},
          "execution_count": 14
        }
      ]
    },
    {
      "cell_type": "code",
      "source": [
        "# shape of fourDarray\n",
        "fourDarray.shape"
      ],
      "metadata": {
        "colab": {
          "base_uri": "https://localhost:8080/"
        },
        "id": "I_9fFGuQaa3e",
        "outputId": "c613baa6-f664-45a8-eefb-b27240fc7f89"
      },
      "execution_count": 15,
      "outputs": [
        {
          "output_type": "execute_result",
          "data": {
            "text/plain": [
              "(4, 3, 2, 3)"
            ]
          },
          "metadata": {},
          "execution_count": 15
        }
      ]
    },
    {
      "cell_type": "code",
      "source": [],
      "metadata": {
        "id": "IZwAmX7Jd3Xc"
      },
      "execution_count": 15,
      "outputs": []
    }
  ]
}
