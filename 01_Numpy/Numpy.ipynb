{
  "nbformat": 4,
  "nbformat_minor": 0,
  "metadata": {
    "colab": {
      "provenance": [],
      "authorship_tag": "ABX9TyPpvq3YetLK3FscEW5uiSti",
      "include_colab_link": true
    },
    "kernelspec": {
      "name": "python3",
      "display_name": "Python 3"
    },
    "language_info": {
      "name": "python"
    }
  },
  "cells": [
    {
      "cell_type": "markdown",
      "metadata": {
        "id": "view-in-github",
        "colab_type": "text"
      },
      "source": [
        "<a href=\"https://colab.research.google.com/github/kamipakistan/Data-Science-with-Python/blob/main/01_Numpy/numpy.ipynb\" target=\"_parent\"><img src=\"https://colab.research.google.com/assets/colab-badge.svg\" alt=\"Open In Colab\"/></a>"
      ]
    },
    {
      "cell_type": "markdown",
      "source": [
        "# **NUMPY**"
      ],
      "metadata": {
        "id": "Docm9kAeTl8F"
      }
    },
    {
      "cell_type": "code",
      "source": [
        "# import numpy Library\n",
        "import numpy as np"
      ],
      "metadata": {
        "id": "eBrbK1yCXyd8"
      },
      "execution_count": 1,
      "outputs": []
    },
    {
      "cell_type": "code",
      "source": [
        "# first numpy array\n",
        "firstDArray = np.array([1, 2, 3, 4, 5, 6])"
      ],
      "metadata": {
        "id": "mFpyUXlxX8Fb"
      },
      "execution_count": 2,
      "outputs": []
    },
    {
      "cell_type": "code",
      "source": [
        "# print first array\n",
        "firstDArray"
      ],
      "metadata": {
        "colab": {
          "base_uri": "https://localhost:8080/"
        },
        "id": "9sbuvxL9X_-o",
        "outputId": "096c517f-206f-4ae2-cb73-7fec9c918999"
      },
      "execution_count": 3,
      "outputs": [
        {
          "output_type": "execute_result",
          "data": {
            "text/plain": [
              "array([1, 2, 3, 4, 5, 6])"
            ]
          },
          "metadata": {},
          "execution_count": 3
        }
      ]
    },
    {
      "cell_type": "code",
      "source": [
        "# array with zeros\n",
        "np.zeros((2, 3), dtype = \"int64\")"
      ],
      "metadata": {
        "colab": {
          "base_uri": "https://localhost:8080/"
        },
        "id": "Ya4FCqUDYCmo",
        "outputId": "d4780b53-62e0-48f8-df03-9479ec433aef"
      },
      "execution_count": 4,
      "outputs": [
        {
          "output_type": "execute_result",
          "data": {
            "text/plain": [
              "array([[0, 0, 0],\n",
              "       [0, 0, 0]])"
            ]
          },
          "metadata": {},
          "execution_count": 4
        }
      ]
    },
    {
      "cell_type": "code",
      "source": [
        "# array with ones\n",
        "np.ones((3, 4), dtype = \"float32\")"
      ],
      "metadata": {
        "colab": {
          "base_uri": "https://localhost:8080/"
        },
        "id": "eojt9ohgYFsa",
        "outputId": "12bc63e2-33d2-4a74-ab04-5ff0fb5f8509"
      },
      "execution_count": 5,
      "outputs": [
        {
          "output_type": "execute_result",
          "data": {
            "text/plain": [
              "array([[1., 1., 1., 1.],\n",
              "       [1., 1., 1., 1.],\n",
              "       [1., 1., 1., 1.]], dtype=float32)"
            ]
          },
          "metadata": {},
          "execution_count": 5
        }
      ]
    },
    {
      "cell_type": "code",
      "source": [
        "# array with empty\n",
        "np.empty((2, 4))"
      ],
      "metadata": {
        "colab": {
          "base_uri": "https://localhost:8080/"
        },
        "id": "GVcmy1QsYHo6",
        "outputId": "2f97e44d-7aac-485c-8d81-0b866a623804"
      },
      "execution_count": 6,
      "outputs": [
        {
          "output_type": "execute_result",
          "data": {
            "text/plain": [
              "array([[0., 0., 0., 0.],\n",
              "       [0., 0., 0., 0.]])"
            ]
          },
          "metadata": {},
          "execution_count": 6
        }
      ]
    },
    {
      "cell_type": "code",
      "source": [
        "# array with arange method\n",
        "npArange = np.arange(10, 110, 10)\n",
        "npArange"
      ],
      "metadata": {
        "colab": {
          "base_uri": "https://localhost:8080/"
        },
        "id": "vcWLbHOpYLLz",
        "outputId": "be9dce97-90da-454b-cd31-e688b1285b37"
      },
      "execution_count": 7,
      "outputs": [
        {
          "output_type": "execute_result",
          "data": {
            "text/plain": [
              "array([ 10,  20,  30,  40,  50,  60,  70,  80,  90, 100])"
            ]
          },
          "metadata": {},
          "execution_count": 7
        }
      ]
    },
    {
      "cell_type": "code",
      "source": [
        "# reshape method to change/create array\n",
        "np.reshape(npArange, (2, 5))"
      ],
      "metadata": {
        "colab": {
          "base_uri": "https://localhost:8080/"
        },
        "id": "_bQ0z05BYPOJ",
        "outputId": "dacd1ee7-f929-44f0-a88f-fd8807c826c8"
      },
      "execution_count": 8,
      "outputs": [
        {
          "output_type": "execute_result",
          "data": {
            "text/plain": [
              "array([[ 10,  20,  30,  40,  50],\n",
              "       [ 60,  70,  80,  90, 100]])"
            ]
          },
          "metadata": {},
          "execution_count": 8
        }
      ]
    },
    {
      "cell_type": "code",
      "source": [
        "# linspace for linearly (equal) spaced data elements\n",
        "linspaceArray = np.linspace(1, 50, num = 100, dtype=\"float32\")"
      ],
      "metadata": {
        "id": "9biD30O_Z_TP"
      },
      "execution_count": 9,
      "outputs": []
    },
    {
      "cell_type": "code",
      "source": [
        "# print linspace array\n",
        "linspaceArray"
      ],
      "metadata": {
        "colab": {
          "base_uri": "https://localhost:8080/"
        },
        "id": "eRoYS1K4aGz-",
        "outputId": "c1038bf0-6242-417b-f27a-4845f4355449"
      },
      "execution_count": 10,
      "outputs": [
        {
          "output_type": "execute_result",
          "data": {
            "text/plain": [
              "array([ 1.       ,  1.4949495,  1.989899 ,  2.4848485,  2.979798 ,\n",
              "        3.4747474,  3.969697 ,  4.4646463,  4.959596 ,  5.4545455,\n",
              "        5.949495 ,  6.4444447,  6.939394 ,  7.4343433,  7.929293 ,\n",
              "        8.424242 ,  8.919192 ,  9.414142 ,  9.909091 , 10.40404  ,\n",
              "       10.89899  , 11.393939 , 11.888889 , 12.383839 , 12.878788 ,\n",
              "       13.373737 , 13.868687 , 14.363636 , 14.858586 , 15.353536 ,\n",
              "       15.848485 , 16.343435 , 16.838385 , 17.333334 , 17.828283 ,\n",
              "       18.323233 , 18.818182 , 19.313131 , 19.80808  , 20.30303  ,\n",
              "       20.79798  , 21.292929 , 21.787878 , 22.282827 , 22.777779 ,\n",
              "       23.272728 , 23.767677 , 24.262627 , 24.757576 , 25.252525 ,\n",
              "       25.747475 , 26.242424 , 26.737373 , 27.232323 , 27.727272 ,\n",
              "       28.222221 , 28.717173 , 29.212122 , 29.707071 , 30.20202  ,\n",
              "       30.69697  , 31.19192  , 31.686869 , 32.18182  , 32.67677  ,\n",
              "       33.17172  , 33.666668 , 34.161617 , 34.656567 , 35.151516 ,\n",
              "       35.646465 , 36.141415 , 36.636364 , 37.131313 , 37.626263 ,\n",
              "       38.121212 , 38.61616  , 39.11111  , 39.60606  , 40.10101  ,\n",
              "       40.59596  , 41.090908 , 41.585857 , 42.080807 , 42.575756 ,\n",
              "       43.070705 , 43.565655 , 44.060608 , 44.555557 , 45.050507 ,\n",
              "       45.545456 , 46.040405 , 46.535355 , 47.030304 , 47.525253 ,\n",
              "       48.020203 , 48.515152 , 49.0101   , 49.50505  , 50.       ],\n",
              "      dtype=float32)"
            ]
          },
          "metadata": {},
          "execution_count": 10
        }
      ]
    },
    {
      "cell_type": "code",
      "source": [
        "# one dimentional array\n",
        "oneDArray = np.array([3, 4, 5, 6, 7])\n",
        "print(oneDArray)\n",
        "\n",
        "# no of dimentions\n",
        "oneDArray.ndim"
      ],
      "metadata": {
        "colab": {
          "base_uri": "https://localhost:8080/"
        },
        "id": "3APhn4_4aJaG",
        "outputId": "914d24f4-7409-4a96-ef82-77ba15140a64"
      },
      "execution_count": 11,
      "outputs": [
        {
          "output_type": "stream",
          "name": "stdout",
          "text": [
            "[3 4 5 6 7]\n"
          ]
        },
        {
          "output_type": "execute_result",
          "data": {
            "text/plain": [
              "1"
            ]
          },
          "metadata": {},
          "execution_count": 11
        }
      ]
    },
    {
      "cell_type": "code",
      "source": [
        "# two dimentional array\n",
        "twoDArray = np.array([[3, 4, 5, 6], [6, 7, 8, 7], [6, 3, 2, 5]])\n",
        "print(twoDArray)\n",
        "\n",
        "# no of dimentions\n",
        "twoDArray.ndim"
      ],
      "metadata": {
        "colab": {
          "base_uri": "https://localhost:8080/"
        },
        "id": "P_ZApIaAaN4a",
        "outputId": "7e7b4c4e-5420-4c83-bc95-b1e9ee06bc3a"
      },
      "execution_count": 12,
      "outputs": [
        {
          "output_type": "stream",
          "name": "stdout",
          "text": [
            "[[3 4 5 6]\n",
            " [6 7 8 7]\n",
            " [6 3 2 5]]\n"
          ]
        },
        {
          "output_type": "execute_result",
          "data": {
            "text/plain": [
              "2"
            ]
          },
          "metadata": {},
          "execution_count": 12
        }
      ]
    },
    {
      "cell_type": "code",
      "source": [
        "# three dimentional array\n",
        "threeDArray = np.array([[[3, 4, 5], [5, 6, 4]],\n",
        "                        [[3, 4, 5], [5, 6, 4]], \n",
        "                        [[3, 4, 5], [5, 6, 4]],\n",
        "                        [[3, 4, 5], [5, 6, 4]]])\n",
        "print(threeDArray)\n",
        "\n",
        "\n",
        "# no of dimentions\n",
        "threeDArray.ndim"
      ],
      "metadata": {
        "colab": {
          "base_uri": "https://localhost:8080/"
        },
        "id": "JIZLJZOKaQvq",
        "outputId": "a0229544-5744-4b48-ab4a-abbf05fb0474"
      },
      "execution_count": 13,
      "outputs": [
        {
          "output_type": "stream",
          "name": "stdout",
          "text": [
            "[[[3 4 5]\n",
            "  [5 6 4]]\n",
            "\n",
            " [[3 4 5]\n",
            "  [5 6 4]]\n",
            "\n",
            " [[3 4 5]\n",
            "  [5 6 4]]\n",
            "\n",
            " [[3 4 5]\n",
            "  [5 6 4]]]\n"
          ]
        },
        {
          "output_type": "execute_result",
          "data": {
            "text/plain": [
              "3"
            ]
          },
          "metadata": {},
          "execution_count": 13
        }
      ]
    },
    {
      "cell_type": "code",
      "source": [
        "# four dimentional array\n",
        "fourDarray = np.array([[[[1, 1, 1],\n",
        "                         [1, 1, 1]], \n",
        "                        [[2, 2, 2],\n",
        "                         [2, 2, 2]], \n",
        "                        [[2, 2, 2],\n",
        "                         [2, 2, 2]]],\n",
        "                        \n",
        "                       [[[1, 1, 1],\n",
        "                         [1, 1, 1]], \n",
        "                        [[2, 2, 2],\n",
        "                         [2, 2, 2]], \n",
        "                        [[2, 2, 2],\n",
        "                         [2, 2, 2]]],\n",
        "                        \n",
        "                       [[[1, 1, 1],\n",
        "                         [1, 1, 1]], \n",
        "                        [[2, 2, 2],\n",
        "                         [2, 2, 2]], \n",
        "                        [[2, 2, 2],\n",
        "                         [2, 2, 2]]],\n",
        "                        \n",
        "                       [[[1, 1, 1],\n",
        "                         [1, 1, 1]], \n",
        "                        [[2, 2, 2],\n",
        "                         [2, 2, 2]], \n",
        "                        [[2, 2, 2],\n",
        "                         [2, 2, 2]]]])\n",
        "print(fourDarray)\n",
        "\n",
        "# no of dimentions\n",
        "fourDarray.ndim"
      ],
      "metadata": {
        "colab": {
          "base_uri": "https://localhost:8080/"
        },
        "id": "utscAAxlaXle",
        "outputId": "2b5159c1-bd94-495f-89b7-fd5088676a90"
      },
      "execution_count": 14,
      "outputs": [
        {
          "output_type": "stream",
          "name": "stdout",
          "text": [
            "[[[[1 1 1]\n",
            "   [1 1 1]]\n",
            "\n",
            "  [[2 2 2]\n",
            "   [2 2 2]]\n",
            "\n",
            "  [[2 2 2]\n",
            "   [2 2 2]]]\n",
            "\n",
            "\n",
            " [[[1 1 1]\n",
            "   [1 1 1]]\n",
            "\n",
            "  [[2 2 2]\n",
            "   [2 2 2]]\n",
            "\n",
            "  [[2 2 2]\n",
            "   [2 2 2]]]\n",
            "\n",
            "\n",
            " [[[1 1 1]\n",
            "   [1 1 1]]\n",
            "\n",
            "  [[2 2 2]\n",
            "   [2 2 2]]\n",
            "\n",
            "  [[2 2 2]\n",
            "   [2 2 2]]]\n",
            "\n",
            "\n",
            " [[[1 1 1]\n",
            "   [1 1 1]]\n",
            "\n",
            "  [[2 2 2]\n",
            "   [2 2 2]]\n",
            "\n",
            "  [[2 2 2]\n",
            "   [2 2 2]]]]\n"
          ]
        },
        {
          "output_type": "execute_result",
          "data": {
            "text/plain": [
              "4"
            ]
          },
          "metadata": {},
          "execution_count": 14
        }
      ]
    },
    {
      "cell_type": "code",
      "source": [
        "# shape of fourDarray\n",
        "fourDarray.shape"
      ],
      "metadata": {
        "colab": {
          "base_uri": "https://localhost:8080/"
        },
        "id": "I_9fFGuQaa3e",
        "outputId": "62e8943b-7722-4c8a-9c5b-016c1f8d2cec"
      },
      "execution_count": 15,
      "outputs": [
        {
          "output_type": "execute_result",
          "data": {
            "text/plain": [
              "(4, 3, 2, 3)"
            ]
          },
          "metadata": {},
          "execution_count": 15
        }
      ]
    },
    {
      "cell_type": "markdown",
      "source": [
        "# **Universal Functions in Numpy**"
      ],
      "metadata": {
        "id": "L0i12k1_auzB"
      }
    },
    {
      "cell_type": "code",
      "source": [
        "twoDArray"
      ],
      "metadata": {
        "colab": {
          "base_uri": "https://localhost:8080/"
        },
        "id": "RmtreC5va5dj",
        "outputId": "13143411-31cc-4194-cdc1-7e5db3336ae3"
      },
      "execution_count": 16,
      "outputs": [
        {
          "output_type": "execute_result",
          "data": {
            "text/plain": [
              "array([[3, 4, 5, 6],\n",
              "       [6, 7, 8, 7],\n",
              "       [6, 3, 2, 5]])"
            ]
          },
          "metadata": {},
          "execution_count": 16
        }
      ]
    },
    {
      "cell_type": "code",
      "source": [
        "# privide the sqrt of each element in the provided array\n",
        "np.sqrt(twoDArray)"
      ],
      "metadata": {
        "colab": {
          "base_uri": "https://localhost:8080/"
        },
        "id": "ElX7cQ0tbQL-",
        "outputId": "dd34d38b-838a-4675-e3da-c0d365a7f0f0"
      },
      "execution_count": 18,
      "outputs": [
        {
          "output_type": "execute_result",
          "data": {
            "text/plain": [
              "array([[1.73205081, 2.        , 2.23606798, 2.44948974],\n",
              "       [2.44948974, 2.64575131, 2.82842712, 2.64575131],\n",
              "       [2.44948974, 1.73205081, 1.41421356, 2.23606798]])"
            ]
          },
          "metadata": {},
          "execution_count": 18
        }
      ]
    },
    {
      "cell_type": "code",
      "source": [
        "# gives cosine values of all the element in the array\n",
        "np.cos(twoDArray)"
      ],
      "metadata": {
        "colab": {
          "base_uri": "https://localhost:8080/"
        },
        "id": "fSGPPZVwbbY7",
        "outputId": "3c092bde-83f9-44f4-df75-256d6d11516a"
      },
      "execution_count": 20,
      "outputs": [
        {
          "output_type": "execute_result",
          "data": {
            "text/plain": [
              "array([[-0.9899925 , -0.65364362,  0.28366219,  0.96017029],\n",
              "       [ 0.96017029,  0.75390225, -0.14550003,  0.75390225],\n",
              "       [ 0.96017029, -0.9899925 , -0.41614684,  0.28366219]])"
            ]
          },
          "metadata": {},
          "execution_count": 20
        }
      ]
    },
    {
      "cell_type": "code",
      "source": [
        "# perform exponential on each element\n",
        "np.exp(twoDArray)"
      ],
      "metadata": {
        "colab": {
          "base_uri": "https://localhost:8080/"
        },
        "id": "M8VDVd80bxEi",
        "outputId": "3999dd12-d4e9-41cf-eb00-22c281d79912"
      },
      "execution_count": 21,
      "outputs": [
        {
          "output_type": "execute_result",
          "data": {
            "text/plain": [
              "array([[  20.08553692,   54.59815003,  148.4131591 ,  403.42879349],\n",
              "       [ 403.42879349, 1096.63315843, 2980.95798704, 1096.63315843],\n",
              "       [ 403.42879349,   20.08553692,    7.3890561 ,  148.4131591 ]])"
            ]
          },
          "metadata": {},
          "execution_count": 21
        }
      ]
    },
    {
      "cell_type": "code",
      "source": [
        "# Return the largest integer value of each element\n",
        "np.floor(np.cos(twoDArray))"
      ],
      "metadata": {
        "colab": {
          "base_uri": "https://localhost:8080/"
        },
        "id": "SnbgkkYwcDqT",
        "outputId": "39f042bf-65b6-4702-c749-e20405828ba8"
      },
      "execution_count": 24,
      "outputs": [
        {
          "output_type": "execute_result",
          "data": {
            "text/plain": [
              "array([[-1., -1.,  0.,  0.],\n",
              "       [ 0.,  0., -1.,  0.],\n",
              "       [ 0., -1., -1.,  0.]])"
            ]
          },
          "metadata": {},
          "execution_count": 24
        }
      ]
    },
    {
      "cell_type": "markdown",
      "source": [
        "## **Shape Manipulation**"
      ],
      "metadata": {
        "id": "3UzXgMJQc39y"
      }
    },
    {
      "cell_type": "code",
      "source": [
        "# creating array for manipulation\n",
        "arr = np.arange(100)\n",
        "arr"
      ],
      "metadata": {
        "colab": {
          "base_uri": "https://localhost:8080/"
        },
        "id": "rINonZW5cILn",
        "outputId": "d58bf0a6-0870-446d-e714-66e88ee6b0f5"
      },
      "execution_count": 28,
      "outputs": [
        {
          "output_type": "execute_result",
          "data": {
            "text/plain": [
              "array([ 0,  1,  2,  3,  4,  5,  6,  7,  8,  9, 10, 11, 12, 13, 14, 15, 16,\n",
              "       17, 18, 19, 20, 21, 22, 23, 24, 25, 26, 27, 28, 29, 30, 31, 32, 33,\n",
              "       34, 35, 36, 37, 38, 39, 40, 41, 42, 43, 44, 45, 46, 47, 48, 49, 50,\n",
              "       51, 52, 53, 54, 55, 56, 57, 58, 59, 60, 61, 62, 63, 64, 65, 66, 67,\n",
              "       68, 69, 70, 71, 72, 73, 74, 75, 76, 77, 78, 79, 80, 81, 82, 83, 84,\n",
              "       85, 86, 87, 88, 89, 90, 91, 92, 93, 94, 95, 96, 97, 98, 99])"
            ]
          },
          "metadata": {},
          "execution_count": 28
        }
      ]
    },
    {
      "cell_type": "code",
      "source": [
        "# Reshaping the elememet\n",
        "arrReshaped = arr.reshape(4, 25)\n",
        "arrReshaped"
      ],
      "metadata": {
        "colab": {
          "base_uri": "https://localhost:8080/"
        },
        "id": "0TA6v9zGc1ed",
        "outputId": "3a7e5d58-f728-4b57-c05c-48352a647d1c"
      },
      "execution_count": 32,
      "outputs": [
        {
          "output_type": "execute_result",
          "data": {
            "text/plain": [
              "array([[ 0,  1,  2,  3,  4,  5,  6,  7,  8,  9, 10, 11, 12, 13, 14, 15,\n",
              "        16, 17, 18, 19, 20, 21, 22, 23, 24],\n",
              "       [25, 26, 27, 28, 29, 30, 31, 32, 33, 34, 35, 36, 37, 38, 39, 40,\n",
              "        41, 42, 43, 44, 45, 46, 47, 48, 49],\n",
              "       [50, 51, 52, 53, 54, 55, 56, 57, 58, 59, 60, 61, 62, 63, 64, 65,\n",
              "        66, 67, 68, 69, 70, 71, 72, 73, 74],\n",
              "       [75, 76, 77, 78, 79, 80, 81, 82, 83, 84, 85, 86, 87, 88, 89, 90,\n",
              "        91, 92, 93, 94, 95, 96, 97, 98, 99]])"
            ]
          },
          "metadata": {},
          "execution_count": 32
        }
      ]
    },
    {
      "cell_type": "code",
      "source": [
        "# Flattens the dataset\n",
        "arrayFlattened = arrReshaped.flatten()\n",
        "arrayFlattened"
      ],
      "metadata": {
        "colab": {
          "base_uri": "https://localhost:8080/"
        },
        "id": "mpXVUc1CdduJ",
        "outputId": "cb73274d-50a1-4a39-9743-6276b59a1672"
      },
      "execution_count": 35,
      "outputs": [
        {
          "output_type": "execute_result",
          "data": {
            "text/plain": [
              "array([ 0,  1,  2,  3,  4,  5,  6,  7,  8,  9, 10, 11, 12, 13, 14, 15, 16,\n",
              "       17, 18, 19, 20, 21, 22, 23, 24, 25, 26, 27, 28, 29, 30, 31, 32, 33,\n",
              "       34, 35, 36, 37, 38, 39, 40, 41, 42, 43, 44, 45, 46, 47, 48, 49, 50,\n",
              "       51, 52, 53, 54, 55, 56, 57, 58, 59, 60, 61, 62, 63, 64, 65, 66, 67,\n",
              "       68, 69, 70, 71, 72, 73, 74, 75, 76, 77, 78, 79, 80, 81, 82, 83, 84,\n",
              "       85, 86, 87, 88, 89, 90, 91, 92, 93, 94, 95, 96, 97, 98, 99])"
            ]
          },
          "metadata": {},
          "execution_count": 35
        }
      ]
    },
    {
      "cell_type": "code",
      "source": [
        "# Flattens the dataset\n",
        "arrayFlattened = arrReshaped.ravel()\n",
        "arrayFlattened"
      ],
      "metadata": {
        "colab": {
          "base_uri": "https://localhost:8080/"
        },
        "id": "fTUjgaZMd5mu",
        "outputId": "5dde6073-2f8a-4905-9a3b-26c6e8afbb3a"
      },
      "execution_count": 49,
      "outputs": [
        {
          "output_type": "execute_result",
          "data": {
            "text/plain": [
              "array([ 0,  1,  2,  3,  4,  5,  6,  7,  8,  9, 10, 11, 12, 13, 14, 15, 16,\n",
              "       17, 18, 19, 20, 21, 22, 23, 24, 25, 26, 27, 28, 29, 30, 31, 32, 33,\n",
              "       34, 35, 36, 37, 38, 39, 40, 41, 42, 43, 44, 45, 46, 47, 48, 49, 50,\n",
              "       51, 52, 53, 54, 55, 56, 57, 58, 59, 60, 61, 62, 63, 64, 65, 66, 67,\n",
              "       68, 69, 70, 71, 72, 73, 74, 75, 76, 77, 78, 79, 80, 81, 82, 83, 84,\n",
              "       85, 86, 87, 88, 89, 90, 91, 92, 93, 94, 95, 96, 97, 98, 99])"
            ]
          },
          "metadata": {},
          "execution_count": 49
        }
      ]
    },
    {
      "cell_type": "code",
      "source": [
        "# Stacking two array\n",
        "# note that all input arrays must have the same shape\n",
        "np.stack((arrayFlattened, arrayFlattened))"
      ],
      "metadata": {
        "colab": {
          "base_uri": "https://localhost:8080/"
        },
        "id": "CqdYif2jeIud",
        "outputId": "affd2765-970c-4f14-fa61-30005b78cd86"
      },
      "execution_count": 60,
      "outputs": [
        {
          "output_type": "execute_result",
          "data": {
            "text/plain": [
              "array([[ 0,  1,  2,  3,  4,  5,  6,  7,  8,  9, 10, 11, 12, 13, 14, 15,\n",
              "        16, 17, 18, 19, 20, 21, 22, 23, 24, 25, 26, 27, 28, 29, 30, 31,\n",
              "        32, 33, 34, 35, 36, 37, 38, 39, 40, 41, 42, 43, 44, 45, 46, 47,\n",
              "        48, 49, 50, 51, 52, 53, 54, 55, 56, 57, 58, 59, 60, 61, 62, 63,\n",
              "        64, 65, 66, 67, 68, 69, 70, 71, 72, 73, 74, 75, 76, 77, 78, 79,\n",
              "        80, 81, 82, 83, 84, 85, 86, 87, 88, 89, 90, 91, 92, 93, 94, 95,\n",
              "        96, 97, 98, 99],\n",
              "       [ 0,  1,  2,  3,  4,  5,  6,  7,  8,  9, 10, 11, 12, 13, 14, 15,\n",
              "        16, 17, 18, 19, 20, 21, 22, 23, 24, 25, 26, 27, 28, 29, 30, 31,\n",
              "        32, 33, 34, 35, 36, 37, 38, 39, 40, 41, 42, 43, 44, 45, 46, 47,\n",
              "        48, 49, 50, 51, 52, 53, 54, 55, 56, 57, 58, 59, 60, 61, 62, 63,\n",
              "        64, 65, 66, 67, 68, 69, 70, 71, 72, 73, 74, 75, 76, 77, 78, 79,\n",
              "        80, 81, 82, 83, 84, 85, 86, 87, 88, 89, 90, 91, 92, 93, 94, 95,\n",
              "        96, 97, 98, 99]])"
            ]
          },
          "metadata": {},
          "execution_count": 60
        }
      ]
    },
    {
      "cell_type": "code",
      "source": [
        "# resizing \n",
        "arrReshaped.resize(5, 20)\n",
        "arrReshaped"
      ],
      "metadata": {
        "colab": {
          "base_uri": "https://localhost:8080/"
        },
        "id": "k9iTzz7kebVR",
        "outputId": "70f57d01-13dd-4a19-a1b1-cd6bfac67f62"
      },
      "execution_count": 56,
      "outputs": [
        {
          "output_type": "execute_result",
          "data": {
            "text/plain": [
              "array([[ 0,  1,  2,  3,  4,  5,  6,  7,  8,  9, 10, 11, 12, 13, 14, 15,\n",
              "        16, 17, 18, 19],\n",
              "       [20, 21, 22, 23, 24, 25, 26, 27, 28, 29, 30, 31, 32, 33, 34, 35,\n",
              "        36, 37, 38, 39],\n",
              "       [40, 41, 42, 43, 44, 45, 46, 47, 48, 49, 50, 51, 52, 53, 54, 55,\n",
              "        56, 57, 58, 59],\n",
              "       [60, 61, 62, 63, 64, 65, 66, 67, 68, 69, 70, 71, 72, 73, 74, 75,\n",
              "        76, 77, 78, 79],\n",
              "       [80, 81, 82, 83, 84, 85, 86, 87, 88, 89, 90, 91, 92, 93, 94, 95,\n",
              "        96, 97, 98, 99]])"
            ]
          },
          "metadata": {},
          "execution_count": 56
        }
      ]
    },
    {
      "cell_type": "code",
      "source": [
        "# Split an array into multiple sub-arrays horizontally (column-wise).\n",
        "np.hsplit(arrReshaped, 2)"
      ],
      "metadata": {
        "colab": {
          "base_uri": "https://localhost:8080/"
        },
        "id": "lfxHo6XGe3Hr",
        "outputId": "737563b6-4dca-4f7b-f1d5-0182a32047b1"
      },
      "execution_count": 58,
      "outputs": [
        {
          "output_type": "execute_result",
          "data": {
            "text/plain": [
              "[array([[ 0,  1,  2,  3,  4,  5,  6,  7,  8,  9],\n",
              "        [20, 21, 22, 23, 24, 25, 26, 27, 28, 29],\n",
              "        [40, 41, 42, 43, 44, 45, 46, 47, 48, 49],\n",
              "        [60, 61, 62, 63, 64, 65, 66, 67, 68, 69],\n",
              "        [80, 81, 82, 83, 84, 85, 86, 87, 88, 89]]),\n",
              " array([[10, 11, 12, 13, 14, 15, 16, 17, 18, 19],\n",
              "        [30, 31, 32, 33, 34, 35, 36, 37, 38, 39],\n",
              "        [50, 51, 52, 53, 54, 55, 56, 57, 58, 59],\n",
              "        [70, 71, 72, 73, 74, 75, 76, 77, 78, 79],\n",
              "        [90, 91, 92, 93, 94, 95, 96, 97, 98, 99]])]"
            ]
          },
          "metadata": {},
          "execution_count": 58
        }
      ]
    },
    {
      "cell_type": "code",
      "source": [],
      "metadata": {
        "id": "YtSREQu8hMNG"
      },
      "execution_count": null,
      "outputs": []
    }
  ]
}
