{
  "nbformat": 4,
  "nbformat_minor": 0,
  "metadata": {
    "colab": {
      "provenance": [],
      "authorship_tag": "ABX9TyNcdsCT3iNzb9MjjZv+tRtv",
      "include_colab_link": true
    },
    "kernelspec": {
      "name": "python3",
      "display_name": "Python 3"
    },
    "language_info": {
      "name": "python"
    }
  },
  "cells": [
    {
      "cell_type": "markdown",
      "metadata": {
        "id": "view-in-github",
        "colab_type": "text"
      },
      "source": [
        "<a href=\"https://colab.research.google.com/github/kamipakistan/Data-Science-with-Python/blob/main/02_Pandas/Series.ipynb\" target=\"_parent\"><img src=\"https://colab.research.google.com/assets/colab-badge.svg\" alt=\"Open In Colab\"/></a>"
      ]
    },
    {
      "cell_type": "markdown",
      "source": [
        "## **Pandas**"
      ],
      "metadata": {
        "id": "MbudirLuflG9"
      }
    },
    {
      "cell_type": "code",
      "source": [
        "# importing libraries\n",
        "import pandas as pd\n",
        "import numpy as np"
      ],
      "metadata": {
        "id": "4XYSOfQrgf4u"
      },
      "execution_count": 1,
      "outputs": []
    },
    {
      "cell_type": "markdown",
      "source": [
        "How to create series in pandas\n",
        "\n",
        "# **Create a series from list** "
      ],
      "metadata": {
        "id": "cqUSkirsgJ5y"
      }
    },
    {
      "cell_type": "code",
      "source": [
        "string = \"abcdefgh\"\n",
        "firstSeries = pd.Series(list(string))"
      ],
      "metadata": {
        "id": "srwYPIxMfloo"
      },
      "execution_count": 2,
      "outputs": []
    },
    {
      "cell_type": "code",
      "source": [
        "firstSeries"
      ],
      "metadata": {
        "colab": {
          "base_uri": "https://localhost:8080/"
        },
        "id": "QPmv3tXRh4nJ",
        "outputId": "6ae35209-231a-43aa-9c76-e2cfb9c3fcff"
      },
      "execution_count": 3,
      "outputs": [
        {
          "output_type": "execute_result",
          "data": {
            "text/plain": [
              "0    a\n",
              "1    b\n",
              "2    c\n",
              "3    d\n",
              "4    e\n",
              "5    f\n",
              "6    g\n",
              "7    h\n",
              "dtype: object"
            ]
          },
          "metadata": {},
          "execution_count": 3
        }
      ]
    },
    {
      "cell_type": "markdown",
      "source": [
        "# **How to create a series form ndarray**"
      ],
      "metadata": {
        "id": "UriKhTWWiyNt"
      }
    },
    {
      "cell_type": "code",
      "source": [
        "# Creating a list of countries name\n",
        "southAsianCountries = \"Afghanistan, Bangladesh, Bhutan, India, Iran, Maldives, Nepal, Pakistan, Sri Lanka\".split(\",\")\n",
        "southAsianCountries"
      ],
      "metadata": {
        "colab": {
          "base_uri": "https://localhost:8080/"
        },
        "id": "pTi8vyEuh6LL",
        "outputId": "79e3d332-a6f4-44c4-a085-7506b1265a94"
      },
      "execution_count": 4,
      "outputs": [
        {
          "output_type": "execute_result",
          "data": {
            "text/plain": [
              "['Afghanistan',\n",
              " ' Bangladesh',\n",
              " ' Bhutan',\n",
              " ' India',\n",
              " ' Iran',\n",
              " ' Maldives',\n",
              " ' Nepal',\n",
              " ' Pakistan',\n",
              " ' Sri Lanka']"
            ]
          },
          "metadata": {},
          "execution_count": 4
        }
      ]
    },
    {
      "cell_type": "code",
      "source": [
        "# convert it into array\n",
        "# ndarray of countries\n",
        "countryNamesArray = np.array(southAsianCountries)\n",
        "countryNamesArray"
      ],
      "metadata": {
        "colab": {
          "base_uri": "https://localhost:8080/"
        },
        "id": "pG_rm7atjWbX",
        "outputId": "df7aa5b4-1b8d-49b5-9ea4-1dd39c3e56e8"
      },
      "execution_count": 5,
      "outputs": [
        {
          "output_type": "execute_result",
          "data": {
            "text/plain": [
              "array(['Afghanistan', ' Bangladesh', ' Bhutan', ' India', ' Iran',\n",
              "       ' Maldives', ' Nepal', ' Pakistan', ' Sri Lanka'], dtype='<U11')"
            ]
          },
          "metadata": {},
          "execution_count": 5
        }
      ]
    },
    {
      "cell_type": "code",
      "source": [
        "# convert array into series\n",
        "# pass ndarray as argument to series\n",
        "pd.Series(countryNamesArray)"
      ],
      "metadata": {
        "colab": {
          "base_uri": "https://localhost:8080/"
        },
        "id": "BP9iVJi7jpAn",
        "outputId": "34de588b-cdad-4e9d-bf62-b865717211a9"
      },
      "execution_count": 6,
      "outputs": [
        {
          "output_type": "execute_result",
          "data": {
            "text/plain": [
              "0    Afghanistan\n",
              "1     Bangladesh\n",
              "2         Bhutan\n",
              "3          India\n",
              "4           Iran\n",
              "5       Maldives\n",
              "6          Nepal\n",
              "7       Pakistan\n",
              "8      Sri Lanka\n",
              "dtype: object"
            ]
          },
          "metadata": {},
          "execution_count": 6
        }
      ]
    },
    {
      "cell_type": "markdown",
      "source": [
        "# **Create series from dict**"
      ],
      "metadata": {
        "id": "cG4EId0hlReG"
      }
    },
    {
      "cell_type": "code",
      "source": [
        "# Top countries GDP per Capita\n",
        "\n",
        "GDP = \"\"\"1\tQatar\t$128,647\t$61,264\t752%\n",
        "2\tMacao\t$115,367\t$80,890\t675%\n",
        "3\tLuxembourg\t$107,641\t$105,280\t629%\n",
        "4\tSingapore\t$94,105\t$56,746\t550%\n",
        "5\tBrunei\t$79,003\t$28,572\t462%\n",
        "6\tIreland\t$76,745\t$69,727\t449%\n",
        "7\tUnited Arab Emirates\t$74,035\t$40,325\t433%\n",
        "8\tKuwait\t$72,096\t$29,616\t422%\n",
        "9\tSwitzerland\t$66,307\t$80,296\t388%\n",
        "10\tSan Marino\t$63,549\t$48,495\t372%\n",
        "11\tNorway\t$62,183\t$75,428\t364%\n",
        "12\tHong Kong\t$61,671\t$46,733\t361%\n",
        "13\tUnited States\t$59,928\t$59,939\t350%\n",
        "14\tIceland\t$55,322\t$73,233\t324%\n",
        "15\tNetherlands\t$54,422\t$48,796\t318%\n",
        "16\tDenmark\t$54,356\t$57,545\t318%\n",
        "17\tSaudi Arabia\t$53,893\t$20,747\t315%\n",
        "18\tAustria\t$53,879\t$47,261\t315%\"\"\".splitlines()"
      ],
      "metadata": {
        "id": "wQXPsYhUkLtU"
      },
      "execution_count": 7,
      "outputs": []
    },
    {
      "cell_type": "code",
      "source": [
        "GDP"
      ],
      "metadata": {
        "colab": {
          "base_uri": "https://localhost:8080/"
        },
        "id": "To46IfthnUjJ",
        "outputId": "ce42e155-fd9d-4ffe-ff7b-3d02d7fbfcfe"
      },
      "execution_count": 8,
      "outputs": [
        {
          "output_type": "execute_result",
          "data": {
            "text/plain": [
              "['1\\tQatar\\t$128,647\\t$61,264\\t752%',\n",
              " '2\\tMacao\\t$115,367\\t$80,890\\t675%',\n",
              " '3\\tLuxembourg\\t$107,641\\t$105,280\\t629%',\n",
              " '4\\tSingapore\\t$94,105\\t$56,746\\t550%',\n",
              " '5\\tBrunei\\t$79,003\\t$28,572\\t462%',\n",
              " '6\\tIreland\\t$76,745\\t$69,727\\t449%',\n",
              " '7\\tUnited Arab Emirates\\t$74,035\\t$40,325\\t433%',\n",
              " '8\\tKuwait\\t$72,096\\t$29,616\\t422%',\n",
              " '9\\tSwitzerland\\t$66,307\\t$80,296\\t388%',\n",
              " '10\\tSan Marino\\t$63,549\\t$48,495\\t372%',\n",
              " '11\\tNorway\\t$62,183\\t$75,428\\t364%',\n",
              " '12\\tHong Kong\\t$61,671\\t$46,733\\t361%',\n",
              " '13\\tUnited States\\t$59,928\\t$59,939\\t350%',\n",
              " '14\\tIceland\\t$55,322\\t$73,233\\t324%',\n",
              " '15\\tNetherlands\\t$54,422\\t$48,796\\t318%',\n",
              " '16\\tDenmark\\t$54,356\\t$57,545\\t318%',\n",
              " '17\\tSaudi Arabia\\t$53,893\\t$20,747\\t315%',\n",
              " '18\\tAustria\\t$53,879\\t$47,261\\t315%']"
            ]
          },
          "metadata": {},
          "execution_count": 8
        }
      ]
    },
    {
      "cell_type": "code",
      "source": [
        "import re\n",
        "# Extracting country's name from the string\n",
        "countryNames = [line.split(\"\\t\")[1] for line in GDP]\n",
        "\n",
        "#\tCountry\tGDP (PPP) per capita (2017)\n",
        "gdp = [re.sub(\"[^0-9]\",\"\" , line.split(\"\\t\")[2]) for line in GDP]\n",
        "\n",
        "print(countryNames)\n",
        "print(gdp)"
      ],
      "metadata": {
        "colab": {
          "base_uri": "https://localhost:8080/"
        },
        "id": "SJXCylxqleKO",
        "outputId": "c4f989fe-4f05-4c5e-de86-d70ff22cacf2"
      },
      "execution_count": 9,
      "outputs": [
        {
          "output_type": "stream",
          "name": "stdout",
          "text": [
            "['Qatar', 'Macao', 'Luxembourg', 'Singapore', 'Brunei', 'Ireland', 'United Arab Emirates', 'Kuwait', 'Switzerland', 'San Marino', 'Norway', 'Hong Kong', 'United States', 'Iceland', 'Netherlands', 'Denmark', 'Saudi Arabia', 'Austria']\n",
            "['128647', '115367', '107641', '94105', '79003', '76745', '74035', '72096', '66307', '63549', '62183', '61671', '59928', '55322', '54422', '54356', '53893', '53879']\n"
          ]
        }
      ]
    },
    {
      "cell_type": "code",
      "source": [
        "# Creating series \n",
        "countryGDP = pd.Series(gdp, index=countryNames)\n",
        "countryGDP"
      ],
      "metadata": {
        "colab": {
          "base_uri": "https://localhost:8080/"
        },
        "id": "FOYM_vv8n1Mg",
        "outputId": "e6479857-effb-47bb-c447-fcfeca29a89a"
      },
      "execution_count": 10,
      "outputs": [
        {
          "output_type": "execute_result",
          "data": {
            "text/plain": [
              "Qatar                   128647\n",
              "Macao                   115367\n",
              "Luxembourg              107641\n",
              "Singapore                94105\n",
              "Brunei                   79003\n",
              "Ireland                  76745\n",
              "United Arab Emirates     74035\n",
              "Kuwait                   72096\n",
              "Switzerland              66307\n",
              "San Marino               63549\n",
              "Norway                   62183\n",
              "Hong Kong                61671\n",
              "United States            59928\n",
              "Iceland                  55322\n",
              "Netherlands              54422\n",
              "Denmark                  54356\n",
              "Saudi Arabia             53893\n",
              "Austria                  53879\n",
              "dtype: object"
            ]
          },
          "metadata": {},
          "execution_count": 10
        }
      ]
    },
    {
      "cell_type": "markdown",
      "source": [
        "# **Creating Series from a scaler**"
      ],
      "metadata": {
        "id": "Z0qaw4Kwsx2_"
      }
    },
    {
      "cell_type": "code",
      "source": [
        "scaler = pd.Series(5., index = \"a,b,c,d,e,f\".split(\",\"))\n",
        "scaler"
      ],
      "metadata": {
        "colab": {
          "base_uri": "https://localhost:8080/"
        },
        "id": "gmTADCsnpcvO",
        "outputId": "bb400ff3-34ae-4225-abcd-6b8c17c56034"
      },
      "execution_count": 11,
      "outputs": [
        {
          "output_type": "execute_result",
          "data": {
            "text/plain": [
              "a    5.0\n",
              "b    5.0\n",
              "c    5.0\n",
              "d    5.0\n",
              "e    5.0\n",
              "f    5.0\n",
              "dtype: float64"
            ]
          },
          "metadata": {},
          "execution_count": 11
        }
      ]
    },
    {
      "cell_type": "markdown",
      "source": [
        " # **Accessing Elements in a Series**"
      ],
      "metadata": {
        "id": "efy7smsqtT4Y"
      }
    },
    {
      "cell_type": "code",
      "source": [
        "# access element in a series\n",
        "scaler[0]"
      ],
      "metadata": {
        "colab": {
          "base_uri": "https://localhost:8080/"
        },
        "id": "LLGOS4T9s6bT",
        "outputId": "92eb8b92-f413-4b1a-cab6-5f0214410495"
      },
      "execution_count": 12,
      "outputs": [
        {
          "output_type": "execute_result",
          "data": {
            "text/plain": [
              "5.0"
            ]
          },
          "metadata": {},
          "execution_count": 12
        }
      ]
    },
    {
      "cell_type": "code",
      "source": [
        "# access first five countries from countryGDP\n",
        "countryGDP[:5]"
      ],
      "metadata": {
        "colab": {
          "base_uri": "https://localhost:8080/"
        },
        "id": "M4dyhqE_t0fQ",
        "outputId": "a9f184f2-907d-4fc8-85df-e565bec79578"
      },
      "execution_count": 13,
      "outputs": [
        {
          "output_type": "execute_result",
          "data": {
            "text/plain": [
              "Qatar         128647\n",
              "Macao         115367\n",
              "Luxembourg    107641\n",
              "Singapore      94105\n",
              "Brunei         79003\n",
              "dtype: object"
            ]
          },
          "metadata": {},
          "execution_count": 13
        }
      ]
    },
    {
      "cell_type": "code",
      "source": [
        "# access  by name or index\n",
        "countryGDP.loc[\"Qatar\"]"
      ],
      "metadata": {
        "colab": {
          "base_uri": "https://localhost:8080/",
          "height": 35
        },
        "id": "souQUpgouHFb",
        "outputId": "53fea06c-0494-4763-9b46-d827d7c2cf94"
      },
      "execution_count": 14,
      "outputs": [
        {
          "output_type": "execute_result",
          "data": {
            "text/plain": [
              "'128647'"
            ],
            "application/vnd.google.colaboratory.intrinsic+json": {
              "type": "string"
            }
          },
          "metadata": {},
          "execution_count": 14
        }
      ]
    },
    {
      "cell_type": "code",
      "source": [
        "# access by index\n",
        "countryGDP.iloc[1]"
      ],
      "metadata": {
        "colab": {
          "base_uri": "https://localhost:8080/",
          "height": 35
        },
        "id": "lDlZ-VF6unQ9",
        "outputId": "bf841994-4fec-4d68-ae01-1e42cd95bd79"
      },
      "execution_count": 15,
      "outputs": [
        {
          "output_type": "execute_result",
          "data": {
            "text/plain": [
              "'115367'"
            ],
            "application/vnd.google.colaboratory.intrinsic+json": {
              "type": "string"
            }
          },
          "metadata": {},
          "execution_count": 15
        }
      ]
    },
    {
      "cell_type": "markdown",
      "source": [
        "# **Vectorized Operations in a Series**"
      ],
      "metadata": {
        "id": "1mWW5UxyvZlv"
      }
    },
    {
      "cell_type": "code",
      "source": [
        "# creating two series\n",
        "first = pd.Series([33, 44, 55, 66], index = [\"a b c d\".split()])\n",
        "second = pd.Series([1, 2, 3, 4], index = [\"a b c d\".split()])"
      ],
      "metadata": {
        "id": "4SgvW7BDuwHm"
      },
      "execution_count": 16,
      "outputs": []
    },
    {
      "cell_type": "code",
      "source": [
        "# add the above's 2 series\n",
        "first+second"
      ],
      "metadata": {
        "colab": {
          "base_uri": "https://localhost:8080/"
        },
        "id": "0QIJuTFFvXtF",
        "outputId": "c4fefd12-1b74-482a-c949-be28e5ec857d"
      },
      "execution_count": 17,
      "outputs": [
        {
          "output_type": "execute_result",
          "data": {
            "text/plain": [
              "a    34\n",
              "b    46\n",
              "c    58\n",
              "d    70\n",
              "dtype: int64"
            ]
          },
          "metadata": {},
          "execution_count": 17
        }
      ]
    },
    {
      "cell_type": "code",
      "source": [
        "# and if we change the order of the index, it will add the same index elements\n",
        "second = pd.Series([1, 2, 3, 4], index = [\"d c b a\".split()])"
      ],
      "metadata": {
        "id": "nItzbadWxlPA"
      },
      "execution_count": 18,
      "outputs": []
    },
    {
      "cell_type": "code",
      "source": [
        "# add the series\n",
        "first+second"
      ],
      "metadata": {
        "colab": {
          "base_uri": "https://localhost:8080/"
        },
        "id": "FsMQxECgx5-5",
        "outputId": "33fb4208-fb5b-44c4-bbe0-1ccf6ca737c7"
      },
      "execution_count": 19,
      "outputs": [
        {
          "output_type": "execute_result",
          "data": {
            "text/plain": [
              "a    37\n",
              "b    47\n",
              "c    57\n",
              "d    67\n",
              "dtype: int64"
            ]
          },
          "metadata": {},
          "execution_count": 19
        }
      ]
    },
    {
      "cell_type": "code",
      "source": [
        "# And if we want to add the elemets of some index and it is not with in the 2nd series it will assign Nan\n",
        "second = pd.Series([1, 2, 3, 4, 7], index = [\"d c e f g\".split()])"
      ],
      "metadata": {
        "id": "R2or0B9hx9ik"
      },
      "execution_count": 20,
      "outputs": []
    },
    {
      "cell_type": "code",
      "source": [
        "# add the series\n",
        "first+second"
      ],
      "metadata": {
        "colab": {
          "base_uri": "https://localhost:8080/"
        },
        "id": "WW9YUvyJysnW",
        "outputId": "d53d5cbf-7430-425d-87aa-c3a6a3ae598d"
      },
      "execution_count": 21,
      "outputs": [
        {
          "output_type": "execute_result",
          "data": {
            "text/plain": [
              "a     NaN\n",
              "b     NaN\n",
              "c    57.0\n",
              "d    67.0\n",
              "e     NaN\n",
              "f     NaN\n",
              "g     NaN\n",
              "dtype: float64"
            ]
          },
          "metadata": {},
          "execution_count": 21
        }
      ]
    },
    {
      "cell_type": "code",
      "source": [],
      "metadata": {
        "id": "9RazNshgyyLa"
      },
      "execution_count": 21,
      "outputs": []
    }
  ]
}
